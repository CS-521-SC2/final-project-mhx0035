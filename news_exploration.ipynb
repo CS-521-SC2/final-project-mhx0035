{
 "cells": [
  {
   "cell_type": "markdown",
   "metadata": {},
   "source": [
    "# Menghao - fake news "
   ]
  },
  {
   "cell_type": "code",
   "execution_count": 20,
   "metadata": {},
   "outputs": [],
   "source": [
    "import matplotlib.pyplot as plt\n",
    "import pandas as pd\n",
    "from sklearn.feature_extraction.text import TfidfVectorizer, TfidfTransformer, CountVectorizer\n",
    "from sklearn.svm import SVC\n",
    "from sklearn.metrics import classification_report, precision_score, recall_score\n",
    "from sklearn.model_selection import KFold\n",
    "from sklearn import metrics"
   ]
  },
  {
   "cell_type": "code",
   "execution_count": 21,
   "metadata": {},
   "outputs": [],
   "source": [
    "dataframe = pd.read_csv('downloaded_fake_news.csv')"
   ]
  },
  {
   "cell_type": "markdown",
   "metadata": {},
   "source": [
    "# visual component "
   ]
  },
  {
   "cell_type": "code",
   "execution_count": 22,
   "metadata": {},
   "outputs": [
    {
     "data": {
      "text/html": [
       "<div>\n",
       "<style scoped>\n",
       "    .dataframe tbody tr th:only-of-type {\n",
       "        vertical-align: middle;\n",
       "    }\n",
       "\n",
       "    .dataframe tbody tr th {\n",
       "        vertical-align: top;\n",
       "    }\n",
       "\n",
       "    .dataframe thead th {\n",
       "        text-align: right;\n",
       "    }\n",
       "</style>\n",
       "<table border=\"1\" class=\"dataframe\">\n",
       "  <thead>\n",
       "    <tr style=\"text-align: right;\">\n",
       "      <th></th>\n",
       "      <th>title</th>\n",
       "      <th>text</th>\n",
       "      <th>label</th>\n",
       "    </tr>\n",
       "  </thead>\n",
       "  <tbody>\n",
       "    <tr>\n",
       "      <th>0</th>\n",
       "      <td>You Can Smell Hillary’s Fear</td>\n",
       "      <td>Daniel Greenfield, a Shillman Journalism Fello...</td>\n",
       "      <td>FAKE</td>\n",
       "    </tr>\n",
       "    <tr>\n",
       "      <th>1</th>\n",
       "      <td>Watch The Exact Moment Paul Ryan Committed Pol...</td>\n",
       "      <td>Google Pinterest Digg Linkedin Reddit Stumbleu...</td>\n",
       "      <td>FAKE</td>\n",
       "    </tr>\n",
       "    <tr>\n",
       "      <th>2</th>\n",
       "      <td>Kerry to go to Paris in gesture of sympathy</td>\n",
       "      <td>U.S. Secretary of State John F. Kerry said Mon...</td>\n",
       "      <td>REAL</td>\n",
       "    </tr>\n",
       "    <tr>\n",
       "      <th>3</th>\n",
       "      <td>Bernie supporters on Twitter erupt in anger ag...</td>\n",
       "      <td>— Kaydee King (@KaydeeKing) November 9, 2016 T...</td>\n",
       "      <td>FAKE</td>\n",
       "    </tr>\n",
       "    <tr>\n",
       "      <th>4</th>\n",
       "      <td>The Battle of New York: Why This Primary Matters</td>\n",
       "      <td>It's primary day in New York and front-runners...</td>\n",
       "      <td>REAL</td>\n",
       "    </tr>\n",
       "    <tr>\n",
       "      <th>...</th>\n",
       "      <td>...</td>\n",
       "      <td>...</td>\n",
       "      <td>...</td>\n",
       "    </tr>\n",
       "    <tr>\n",
       "      <th>6330</th>\n",
       "      <td>State Department says it can't find emails fro...</td>\n",
       "      <td>The State Department told the Republican Natio...</td>\n",
       "      <td>REAL</td>\n",
       "    </tr>\n",
       "    <tr>\n",
       "      <th>6331</th>\n",
       "      <td>The ‘P’ in PBS Should Stand for ‘Plutocratic’ ...</td>\n",
       "      <td>The ‘P’ in PBS Should Stand for ‘Plutocratic’ ...</td>\n",
       "      <td>FAKE</td>\n",
       "    </tr>\n",
       "    <tr>\n",
       "      <th>6332</th>\n",
       "      <td>Anti-Trump Protesters Are Tools of the Oligarc...</td>\n",
       "      <td>Anti-Trump Protesters Are Tools of the Oligarc...</td>\n",
       "      <td>FAKE</td>\n",
       "    </tr>\n",
       "    <tr>\n",
       "      <th>6333</th>\n",
       "      <td>In Ethiopia, Obama seeks progress on peace, se...</td>\n",
       "      <td>ADDIS ABABA, Ethiopia —President Obama convene...</td>\n",
       "      <td>REAL</td>\n",
       "    </tr>\n",
       "    <tr>\n",
       "      <th>6334</th>\n",
       "      <td>Jeb Bush Is Suddenly Attacking Trump. Here's W...</td>\n",
       "      <td>Jeb Bush Is Suddenly Attacking Trump. Here's W...</td>\n",
       "      <td>REAL</td>\n",
       "    </tr>\n",
       "  </tbody>\n",
       "</table>\n",
       "<p>6335 rows × 3 columns</p>\n",
       "</div>"
      ],
      "text/plain": [
       "                                                  title  \\\n",
       "0                          You Can Smell Hillary’s Fear   \n",
       "1     Watch The Exact Moment Paul Ryan Committed Pol...   \n",
       "2           Kerry to go to Paris in gesture of sympathy   \n",
       "3     Bernie supporters on Twitter erupt in anger ag...   \n",
       "4      The Battle of New York: Why This Primary Matters   \n",
       "...                                                 ...   \n",
       "6330  State Department says it can't find emails fro...   \n",
       "6331  The ‘P’ in PBS Should Stand for ‘Plutocratic’ ...   \n",
       "6332  Anti-Trump Protesters Are Tools of the Oligarc...   \n",
       "6333  In Ethiopia, Obama seeks progress on peace, se...   \n",
       "6334  Jeb Bush Is Suddenly Attacking Trump. Here's W...   \n",
       "\n",
       "                                                   text label  \n",
       "0     Daniel Greenfield, a Shillman Journalism Fello...  FAKE  \n",
       "1     Google Pinterest Digg Linkedin Reddit Stumbleu...  FAKE  \n",
       "2     U.S. Secretary of State John F. Kerry said Mon...  REAL  \n",
       "3     — Kaydee King (@KaydeeKing) November 9, 2016 T...  FAKE  \n",
       "4     It's primary day in New York and front-runners...  REAL  \n",
       "...                                                 ...   ...  \n",
       "6330  The State Department told the Republican Natio...  REAL  \n",
       "6331  The ‘P’ in PBS Should Stand for ‘Plutocratic’ ...  FAKE  \n",
       "6332  Anti-Trump Protesters Are Tools of the Oligarc...  FAKE  \n",
       "6333  ADDIS ABABA, Ethiopia —President Obama convene...  REAL  \n",
       "6334  Jeb Bush Is Suddenly Attacking Trump. Here's W...  REAL  \n",
       "\n",
       "[6335 rows x 3 columns]"
      ]
     },
     "execution_count": 22,
     "metadata": {},
     "output_type": "execute_result"
    }
   ],
   "source": [
    "dataframe"
   ]
  },
  {
   "cell_type": "code",
   "execution_count": 23,
   "metadata": {},
   "outputs": [
    {
     "data": {
      "text/html": [
       "<div>\n",
       "<style scoped>\n",
       "    .dataframe tbody tr th:only-of-type {\n",
       "        vertical-align: middle;\n",
       "    }\n",
       "\n",
       "    .dataframe tbody tr th {\n",
       "        vertical-align: top;\n",
       "    }\n",
       "\n",
       "    .dataframe thead th {\n",
       "        text-align: right;\n",
       "    }\n",
       "</style>\n",
       "<table border=\"1\" class=\"dataframe\">\n",
       "  <thead>\n",
       "    <tr style=\"text-align: right;\">\n",
       "      <th></th>\n",
       "      <th>title</th>\n",
       "      <th>text</th>\n",
       "      <th>label</th>\n",
       "    </tr>\n",
       "  </thead>\n",
       "  <tbody>\n",
       "    <tr>\n",
       "      <th>0</th>\n",
       "      <td>You Can Smell Hillary’s Fear</td>\n",
       "      <td>Daniel Greenfield, a Shillman Journalism Fello...</td>\n",
       "      <td>FAKE</td>\n",
       "    </tr>\n",
       "    <tr>\n",
       "      <th>1</th>\n",
       "      <td>Watch The Exact Moment Paul Ryan Committed Pol...</td>\n",
       "      <td>Google Pinterest Digg Linkedin Reddit Stumbleu...</td>\n",
       "      <td>FAKE</td>\n",
       "    </tr>\n",
       "    <tr>\n",
       "      <th>3</th>\n",
       "      <td>Bernie supporters on Twitter erupt in anger ag...</td>\n",
       "      <td>— Kaydee King (@KaydeeKing) November 9, 2016 T...</td>\n",
       "      <td>FAKE</td>\n",
       "    </tr>\n",
       "    <tr>\n",
       "      <th>5</th>\n",
       "      <td>Tehran, USA</td>\n",
       "      <td>I’m not an immigrant, but my grandparents are....</td>\n",
       "      <td>FAKE</td>\n",
       "    </tr>\n",
       "    <tr>\n",
       "      <th>6</th>\n",
       "      <td>Girl Horrified At What She Watches Boyfriend D...</td>\n",
       "      <td>Share This Baylee Luciani (left), Screenshot o...</td>\n",
       "      <td>FAKE</td>\n",
       "    </tr>\n",
       "    <tr>\n",
       "      <th>...</th>\n",
       "      <td>...</td>\n",
       "      <td>...</td>\n",
       "      <td>...</td>\n",
       "    </tr>\n",
       "    <tr>\n",
       "      <th>6326</th>\n",
       "      <td>DOJ COMPLAINT: Comey Under Fire Over Partisan ...</td>\n",
       "      <td>DOJ COMPLAINT: Comey Under Fire Over Partisan ...</td>\n",
       "      <td>FAKE</td>\n",
       "    </tr>\n",
       "    <tr>\n",
       "      <th>6328</th>\n",
       "      <td>Radio Derb Is On The Air–Leonardo And Brazil’s...</td>\n",
       "      <td></td>\n",
       "      <td>FAKE</td>\n",
       "    </tr>\n",
       "    <tr>\n",
       "      <th>6329</th>\n",
       "      <td>Assange claims ‘crazed’ Clinton campaign tried...</td>\n",
       "      <td>Julian Assange has claimed the Hillary Clinton...</td>\n",
       "      <td>FAKE</td>\n",
       "    </tr>\n",
       "    <tr>\n",
       "      <th>6331</th>\n",
       "      <td>The ‘P’ in PBS Should Stand for ‘Plutocratic’ ...</td>\n",
       "      <td>The ‘P’ in PBS Should Stand for ‘Plutocratic’ ...</td>\n",
       "      <td>FAKE</td>\n",
       "    </tr>\n",
       "    <tr>\n",
       "      <th>6332</th>\n",
       "      <td>Anti-Trump Protesters Are Tools of the Oligarc...</td>\n",
       "      <td>Anti-Trump Protesters Are Tools of the Oligarc...</td>\n",
       "      <td>FAKE</td>\n",
       "    </tr>\n",
       "  </tbody>\n",
       "</table>\n",
       "<p>3164 rows × 3 columns</p>\n",
       "</div>"
      ],
      "text/plain": [
       "                                                  title  \\\n",
       "0                          You Can Smell Hillary’s Fear   \n",
       "1     Watch The Exact Moment Paul Ryan Committed Pol...   \n",
       "3     Bernie supporters on Twitter erupt in anger ag...   \n",
       "5                                           Tehran, USA   \n",
       "6     Girl Horrified At What She Watches Boyfriend D...   \n",
       "...                                                 ...   \n",
       "6326  DOJ COMPLAINT: Comey Under Fire Over Partisan ...   \n",
       "6328  Radio Derb Is On The Air–Leonardo And Brazil’s...   \n",
       "6329  Assange claims ‘crazed’ Clinton campaign tried...   \n",
       "6331  The ‘P’ in PBS Should Stand for ‘Plutocratic’ ...   \n",
       "6332  Anti-Trump Protesters Are Tools of the Oligarc...   \n",
       "\n",
       "                                                   text label  \n",
       "0     Daniel Greenfield, a Shillman Journalism Fello...  FAKE  \n",
       "1     Google Pinterest Digg Linkedin Reddit Stumbleu...  FAKE  \n",
       "3     — Kaydee King (@KaydeeKing) November 9, 2016 T...  FAKE  \n",
       "5     I’m not an immigrant, but my grandparents are....  FAKE  \n",
       "6     Share This Baylee Luciani (left), Screenshot o...  FAKE  \n",
       "...                                                 ...   ...  \n",
       "6326  DOJ COMPLAINT: Comey Under Fire Over Partisan ...  FAKE  \n",
       "6328                                                     FAKE  \n",
       "6329  Julian Assange has claimed the Hillary Clinton...  FAKE  \n",
       "6331  The ‘P’ in PBS Should Stand for ‘Plutocratic’ ...  FAKE  \n",
       "6332  Anti-Trump Protesters Are Tools of the Oligarc...  FAKE  \n",
       "\n",
       "[3164 rows x 3 columns]"
      ]
     },
     "execution_count": 23,
     "metadata": {},
     "output_type": "execute_result"
    }
   ],
   "source": [
    "dataframe[dataframe['label'] == 'FAKE']"
   ]
  },
  {
   "cell_type": "code",
   "execution_count": 24,
   "metadata": {},
   "outputs": [
    {
     "data": {
      "text/html": [
       "<div>\n",
       "<style scoped>\n",
       "    .dataframe tbody tr th:only-of-type {\n",
       "        vertical-align: middle;\n",
       "    }\n",
       "\n",
       "    .dataframe tbody tr th {\n",
       "        vertical-align: top;\n",
       "    }\n",
       "\n",
       "    .dataframe thead th {\n",
       "        text-align: right;\n",
       "    }\n",
       "</style>\n",
       "<table border=\"1\" class=\"dataframe\">\n",
       "  <thead>\n",
       "    <tr style=\"text-align: right;\">\n",
       "      <th></th>\n",
       "      <th>title</th>\n",
       "      <th>text</th>\n",
       "      <th>label</th>\n",
       "    </tr>\n",
       "  </thead>\n",
       "  <tbody>\n",
       "    <tr>\n",
       "      <th>2</th>\n",
       "      <td>Kerry to go to Paris in gesture of sympathy</td>\n",
       "      <td>U.S. Secretary of State John F. Kerry said Mon...</td>\n",
       "      <td>REAL</td>\n",
       "    </tr>\n",
       "    <tr>\n",
       "      <th>4</th>\n",
       "      <td>The Battle of New York: Why This Primary Matters</td>\n",
       "      <td>It's primary day in New York and front-runners...</td>\n",
       "      <td>REAL</td>\n",
       "    </tr>\n",
       "    <tr>\n",
       "      <th>7</th>\n",
       "      <td>‘Britain’s Schindler’ Dies at 106</td>\n",
       "      <td>A Czech stockbroker who saved more than 650 Je...</td>\n",
       "      <td>REAL</td>\n",
       "    </tr>\n",
       "    <tr>\n",
       "      <th>8</th>\n",
       "      <td>Fact check: Trump and Clinton at the 'commande...</td>\n",
       "      <td>Hillary Clinton and Donald Trump made some ina...</td>\n",
       "      <td>REAL</td>\n",
       "    </tr>\n",
       "    <tr>\n",
       "      <th>9</th>\n",
       "      <td>Iran reportedly makes new push for uranium con...</td>\n",
       "      <td>Iranian negotiators reportedly have made a las...</td>\n",
       "      <td>REAL</td>\n",
       "    </tr>\n",
       "    <tr>\n",
       "      <th>...</th>\n",
       "      <td>...</td>\n",
       "      <td>...</td>\n",
       "      <td>...</td>\n",
       "    </tr>\n",
       "    <tr>\n",
       "      <th>6324</th>\n",
       "      <td>Alabama Lawmaker: Same-Sex Couples Don’t Deser...</td>\n",
       "      <td>Most conservatives who oppose marriage equalit...</td>\n",
       "      <td>REAL</td>\n",
       "    </tr>\n",
       "    <tr>\n",
       "      <th>6327</th>\n",
       "      <td>GOP Senator David Perdue Jokes About Praying f...</td>\n",
       "      <td>The freshman senator from Georgia quoted scrip...</td>\n",
       "      <td>REAL</td>\n",
       "    </tr>\n",
       "    <tr>\n",
       "      <th>6330</th>\n",
       "      <td>State Department says it can't find emails fro...</td>\n",
       "      <td>The State Department told the Republican Natio...</td>\n",
       "      <td>REAL</td>\n",
       "    </tr>\n",
       "    <tr>\n",
       "      <th>6333</th>\n",
       "      <td>In Ethiopia, Obama seeks progress on peace, se...</td>\n",
       "      <td>ADDIS ABABA, Ethiopia —President Obama convene...</td>\n",
       "      <td>REAL</td>\n",
       "    </tr>\n",
       "    <tr>\n",
       "      <th>6334</th>\n",
       "      <td>Jeb Bush Is Suddenly Attacking Trump. Here's W...</td>\n",
       "      <td>Jeb Bush Is Suddenly Attacking Trump. Here's W...</td>\n",
       "      <td>REAL</td>\n",
       "    </tr>\n",
       "  </tbody>\n",
       "</table>\n",
       "<p>3171 rows × 3 columns</p>\n",
       "</div>"
      ],
      "text/plain": [
       "                                                  title  \\\n",
       "2           Kerry to go to Paris in gesture of sympathy   \n",
       "4      The Battle of New York: Why This Primary Matters   \n",
       "7                     ‘Britain’s Schindler’ Dies at 106   \n",
       "8     Fact check: Trump and Clinton at the 'commande...   \n",
       "9     Iran reportedly makes new push for uranium con...   \n",
       "...                                                 ...   \n",
       "6324  Alabama Lawmaker: Same-Sex Couples Don’t Deser...   \n",
       "6327  GOP Senator David Perdue Jokes About Praying f...   \n",
       "6330  State Department says it can't find emails fro...   \n",
       "6333  In Ethiopia, Obama seeks progress on peace, se...   \n",
       "6334  Jeb Bush Is Suddenly Attacking Trump. Here's W...   \n",
       "\n",
       "                                                   text label  \n",
       "2     U.S. Secretary of State John F. Kerry said Mon...  REAL  \n",
       "4     It's primary day in New York and front-runners...  REAL  \n",
       "7     A Czech stockbroker who saved more than 650 Je...  REAL  \n",
       "8     Hillary Clinton and Donald Trump made some ina...  REAL  \n",
       "9     Iranian negotiators reportedly have made a las...  REAL  \n",
       "...                                                 ...   ...  \n",
       "6324  Most conservatives who oppose marriage equalit...  REAL  \n",
       "6327  The freshman senator from Georgia quoted scrip...  REAL  \n",
       "6330  The State Department told the Republican Natio...  REAL  \n",
       "6333  ADDIS ABABA, Ethiopia —President Obama convene...  REAL  \n",
       "6334  Jeb Bush Is Suddenly Attacking Trump. Here's W...  REAL  \n",
       "\n",
       "[3171 rows x 3 columns]"
      ]
     },
     "execution_count": 24,
     "metadata": {},
     "output_type": "execute_result"
    }
   ],
   "source": [
    "dataframe[dataframe['label'] == 'REAL']"
   ]
  },
  {
   "cell_type": "code",
   "execution_count": 25,
   "metadata": {},
   "outputs": [
    {
     "data": {
      "text/html": [
       "<div>\n",
       "<style scoped>\n",
       "    .dataframe tbody tr th:only-of-type {\n",
       "        vertical-align: middle;\n",
       "    }\n",
       "\n",
       "    .dataframe tbody tr th {\n",
       "        vertical-align: top;\n",
       "    }\n",
       "\n",
       "    .dataframe thead th {\n",
       "        text-align: right;\n",
       "    }\n",
       "</style>\n",
       "<table border=\"1\" class=\"dataframe\">\n",
       "  <thead>\n",
       "    <tr style=\"text-align: right;\">\n",
       "      <th></th>\n",
       "      <th>title</th>\n",
       "      <th>text</th>\n",
       "      <th>label</th>\n",
       "    </tr>\n",
       "  </thead>\n",
       "  <tbody>\n",
       "    <tr>\n",
       "      <th>0</th>\n",
       "      <td>You Can Smell Hillary’s Fear</td>\n",
       "      <td>Daniel Greenfield, a Shillman Journalism Fello...</td>\n",
       "      <td>FAKE</td>\n",
       "    </tr>\n",
       "    <tr>\n",
       "      <th>1</th>\n",
       "      <td>Watch The Exact Moment Paul Ryan Committed Pol...</td>\n",
       "      <td>Google Pinterest Digg Linkedin Reddit Stumbleu...</td>\n",
       "      <td>FAKE</td>\n",
       "    </tr>\n",
       "    <tr>\n",
       "      <th>2</th>\n",
       "      <td>Kerry to go to Paris in gesture of sympathy</td>\n",
       "      <td>U.S. Secretary of State John F. Kerry said Mon...</td>\n",
       "      <td>REAL</td>\n",
       "    </tr>\n",
       "    <tr>\n",
       "      <th>3</th>\n",
       "      <td>Bernie supporters on Twitter erupt in anger ag...</td>\n",
       "      <td>— Kaydee King (@KaydeeKing) November 9, 2016 T...</td>\n",
       "      <td>FAKE</td>\n",
       "    </tr>\n",
       "  </tbody>\n",
       "</table>\n",
       "</div>"
      ],
      "text/plain": [
       "                                               title  \\\n",
       "0                       You Can Smell Hillary’s Fear   \n",
       "1  Watch The Exact Moment Paul Ryan Committed Pol...   \n",
       "2        Kerry to go to Paris in gesture of sympathy   \n",
       "3  Bernie supporters on Twitter erupt in anger ag...   \n",
       "\n",
       "                                                text label  \n",
       "0  Daniel Greenfield, a Shillman Journalism Fello...  FAKE  \n",
       "1  Google Pinterest Digg Linkedin Reddit Stumbleu...  FAKE  \n",
       "2  U.S. Secretary of State John F. Kerry said Mon...  REAL  \n",
       "3  — Kaydee King (@KaydeeKing) November 9, 2016 T...  FAKE  "
      ]
     },
     "execution_count": 25,
     "metadata": {},
     "output_type": "execute_result"
    }
   ],
   "source": [
    "dataframe.iloc[0:4]"
   ]
  },
  {
   "cell_type": "code",
   "execution_count": 26,
   "metadata": {},
   "outputs": [
    {
     "data": {
      "text/plain": [
       "0                            You Can Smell Hillary’s Fear\n",
       "1       Watch The Exact Moment Paul Ryan Committed Pol...\n",
       "2             Kerry to go to Paris in gesture of sympathy\n",
       "3       Bernie supporters on Twitter erupt in anger ag...\n",
       "4        The Battle of New York: Why This Primary Matters\n",
       "                              ...                        \n",
       "6330    State Department says it can't find emails fro...\n",
       "6331    The ‘P’ in PBS Should Stand for ‘Plutocratic’ ...\n",
       "6332    Anti-Trump Protesters Are Tools of the Oligarc...\n",
       "6333    In Ethiopia, Obama seeks progress on peace, se...\n",
       "6334    Jeb Bush Is Suddenly Attacking Trump. Here's W...\n",
       "Name: title, Length: 6335, dtype: object"
      ]
     },
     "execution_count": 26,
     "metadata": {},
     "output_type": "execute_result"
    }
   ],
   "source": [
    "dataframe['title']"
   ]
  },
  {
   "cell_type": "markdown",
   "metadata": {},
   "source": [
    "  # Extension 1: different models"
   ]
  },
  {
   "cell_type": "markdown",
   "metadata": {},
   "source": [
    "# SVM"
   ]
  },
  {
   "cell_type": "code",
   "execution_count": 27,
   "metadata": {},
   "outputs": [
    {
     "name": "stdout",
     "output_type": "stream",
     "text": [
      "features shape (6335, 10071)\n"
     ]
    }
   ],
   "source": [
    "vectorizer = TfidfVectorizer()\n",
    "features = vectorizer.fit_transform(dataframe['title'])\n",
    "labels = dataframe['label']\n",
    "print('features shape', features.shape)\n",
    "\n",
    "kf = KFold(n_splits=5)"
   ]
  },
  {
   "cell_type": "code",
   "execution_count": 28,
   "metadata": {
    "scrolled": true
   },
   "outputs": [
    {
     "name": "stdout",
     "output_type": "stream",
     "text": [
      "              precision    recall  f1-score   support\n",
      "\n",
      "        FAKE       0.81      0.88      0.85       634\n",
      "        REAL       0.87      0.79      0.83       633\n",
      "\n",
      "    accuracy                           0.84      1267\n",
      "   macro avg       0.84      0.84      0.84      1267\n",
      "weighted avg       0.84      0.84      0.84      1267\n",
      "\n",
      "              precision    recall  f1-score   support\n",
      "\n",
      "        FAKE       0.81      0.86      0.83       663\n",
      "        REAL       0.84      0.77      0.80       604\n",
      "\n",
      "    accuracy                           0.82      1267\n",
      "   macro avg       0.82      0.82      0.82      1267\n",
      "weighted avg       0.82      0.82      0.82      1267\n",
      "\n",
      "              precision    recall  f1-score   support\n",
      "\n",
      "        FAKE       0.78      0.87      0.82       595\n",
      "        REAL       0.87      0.79      0.83       672\n",
      "\n",
      "    accuracy                           0.83      1267\n",
      "   macro avg       0.83      0.83      0.83      1267\n",
      "weighted avg       0.83      0.83      0.83      1267\n",
      "\n",
      "              precision    recall  f1-score   support\n",
      "\n",
      "        FAKE       0.80      0.86      0.83       628\n",
      "        REAL       0.85      0.79      0.82       639\n",
      "\n",
      "    accuracy                           0.82      1267\n",
      "   macro avg       0.83      0.82      0.82      1267\n",
      "weighted avg       0.83      0.82      0.82      1267\n",
      "\n",
      "              precision    recall  f1-score   support\n",
      "\n",
      "        FAKE       0.80      0.86      0.83       644\n",
      "        REAL       0.84      0.78      0.81       623\n",
      "\n",
      "    accuracy                           0.82      1267\n",
      "   macro avg       0.82      0.82      0.82      1267\n",
      "weighted avg       0.82      0.82      0.82      1267\n",
      "\n"
     ]
    }
   ],
   "source": [
    "for train, test in kf.split(features):\n",
    "    model = SVC()\n",
    "    model.fit(features[train], labels.iloc[train])\n",
    "    predicts = model.predict(features[test])\n",
    " \n",
    "    print(classification_report(labels[test], predicts))"
   ]
  },
  {
   "cell_type": "markdown",
   "metadata": {},
   "source": [
    "# LogisticRegression"
   ]
  },
  {
   "cell_type": "code",
   "execution_count": 29,
   "metadata": {
    "scrolled": true
   },
   "outputs": [
    {
     "name": "stdout",
     "output_type": "stream",
     "text": [
      "              precision    recall  f1-score   support\n",
      "\n",
      "        FAKE       0.80      0.87      0.83       634\n",
      "        REAL       0.86      0.78      0.82       633\n",
      "\n",
      "    accuracy                           0.83      1267\n",
      "   macro avg       0.83      0.83      0.83      1267\n",
      "weighted avg       0.83      0.83      0.83      1267\n",
      "\n",
      "[0.87066246 0.78199052]\n",
      "              precision    recall  f1-score   support\n",
      "\n",
      "        FAKE       0.80      0.85      0.82       663\n",
      "        REAL       0.82      0.76      0.79       604\n",
      "\n",
      "    accuracy                           0.81      1267\n",
      "   macro avg       0.81      0.81      0.81      1267\n",
      "weighted avg       0.81      0.81      0.81      1267\n",
      "\n",
      "[0.85067873 0.7615894 ]\n",
      "              precision    recall  f1-score   support\n",
      "\n",
      "        FAKE       0.77      0.86      0.81       595\n",
      "        REAL       0.86      0.78      0.82       672\n",
      "\n",
      "    accuracy                           0.82      1267\n",
      "   macro avg       0.82      0.82      0.82      1267\n",
      "weighted avg       0.82      0.82      0.82      1267\n",
      "\n",
      "[0.8605042  0.77678571]\n",
      "              precision    recall  f1-score   support\n",
      "\n",
      "        FAKE       0.81      0.84      0.83       628\n",
      "        REAL       0.84      0.81      0.82       639\n",
      "\n",
      "    accuracy                           0.83      1267\n",
      "   macro avg       0.83      0.83      0.83      1267\n",
      "weighted avg       0.83      0.83      0.83      1267\n",
      "\n",
      "[0.84394904 0.80907668]\n",
      "              precision    recall  f1-score   support\n",
      "\n",
      "        FAKE       0.79      0.84      0.81       644\n",
      "        REAL       0.82      0.78      0.80       623\n",
      "\n",
      "    accuracy                           0.81      1267\n",
      "   macro avg       0.81      0.81      0.81      1267\n",
      "weighted avg       0.81      0.81      0.81      1267\n",
      "\n",
      "[0.83695652 0.7752809 ]\n"
     ]
    }
   ],
   "source": [
    "from sklearn.linear_model import LogisticRegression\n",
    "\n",
    "for train, test in kf.split(features):\n",
    "    model = LogisticRegression()\n",
    "    model.fit(features[train], labels.iloc[train])\n",
    "    # make predictions\n",
    "    expected = labels[test]\n",
    "    predicted = model.predict(features[test])\n",
    "    \n",
    "    print(classification_report(expected, predicted))\n",
    "    print(metrics.recall_score(expected,predicted, average = None))"
   ]
  },
  {
   "cell_type": "markdown",
   "metadata": {},
   "source": [
    "# LinearSVC"
   ]
  },
  {
   "cell_type": "code",
   "execution_count": 30,
   "metadata": {
    "scrolled": true
   },
   "outputs": [
    {
     "name": "stdout",
     "output_type": "stream",
     "text": [
      "              precision    recall  f1-score   support\n",
      "\n",
      "        FAKE       0.82      0.83      0.82       634\n",
      "        REAL       0.83      0.81      0.82       633\n",
      "\n",
      "    accuracy                           0.82      1267\n",
      "   macro avg       0.82      0.82      0.82      1267\n",
      "weighted avg       0.82      0.82      0.82      1267\n",
      "\n",
      "[0.51242236 0.48796148]\n",
      "              precision    recall  f1-score   support\n",
      "\n",
      "        FAKE       0.80      0.79      0.80       663\n",
      "        REAL       0.78      0.78      0.78       604\n",
      "\n",
      "    accuracy                           0.79      1267\n",
      "   macro avg       0.79      0.79      0.79      1267\n",
      "weighted avg       0.79      0.79      0.79      1267\n",
      "\n",
      "[0.52018634 0.48314607]\n",
      "              precision    recall  f1-score   support\n",
      "\n",
      "        FAKE       0.79      0.83      0.81       595\n",
      "        REAL       0.84      0.81      0.82       672\n",
      "\n",
      "    accuracy                           0.82      1267\n",
      "   macro avg       0.82      0.82      0.82      1267\n",
      "weighted avg       0.82      0.82      0.82      1267\n",
      "\n",
      "[0.48291925 0.50080257]\n",
      "              precision    recall  f1-score   support\n",
      "\n",
      "        FAKE       0.82      0.81      0.81       628\n",
      "        REAL       0.82      0.82      0.82       639\n",
      "\n",
      "    accuracy                           0.82      1267\n",
      "   macro avg       0.82      0.82      0.82      1267\n",
      "weighted avg       0.82      0.82      0.82      1267\n",
      "\n",
      "[0.50465839 0.51845907]\n",
      "              precision    recall  f1-score   support\n",
      "\n",
      "        FAKE       0.81      0.85      0.83       644\n",
      "        REAL       0.83      0.79      0.81       623\n",
      "\n",
      "    accuracy                           0.82      1267\n",
      "   macro avg       0.82      0.82      0.82      1267\n",
      "weighted avg       0.82      0.82      0.82      1267\n",
      "\n",
      "[0.84782609 0.79454254]\n"
     ]
    }
   ],
   "source": [
    "from sklearn.svm import LinearSVC\n",
    "\n",
    "for train, test in kf.split(features):\n",
    "    model = LinearSVC()\n",
    "    model.fit(features[train], labels.iloc[train])\n",
    "    predicted = model.predict(features[test])\n",
    "\n",
    "    print(classification_report(labels[test], predicted))\n",
    "    print(metrics.recall_score(expected,predicted, average = None))"
   ]
  },
  {
   "cell_type": "markdown",
   "metadata": {},
   "source": [
    "# MultinomialNB"
   ]
  },
  {
   "cell_type": "code",
   "execution_count": 31,
   "metadata": {
    "scrolled": true
   },
   "outputs": [
    {
     "name": "stdout",
     "output_type": "stream",
     "text": [
      "              precision    recall  f1-score   support\n",
      "\n",
      "        FAKE       0.87      0.78      0.82       634\n",
      "        REAL       0.80      0.88      0.84       633\n",
      "\n",
      "    accuracy                           0.83      1267\n",
      "   macro avg       0.84      0.83      0.83      1267\n",
      "weighted avg       0.84      0.83      0.83      1267\n",
      "\n",
      "[0.45652174 0.55377207]\n",
      "              precision    recall  f1-score   support\n",
      "\n",
      "        FAKE       0.87      0.73      0.79       663\n",
      "        REAL       0.75      0.88      0.81       604\n",
      "\n",
      "    accuracy                           0.80      1267\n",
      "   macro avg       0.81      0.80      0.80      1267\n",
      "weighted avg       0.81      0.80      0.80      1267\n",
      "\n",
      "[0.42080745 0.54093098]\n",
      "              precision    recall  f1-score   support\n",
      "\n",
      "        FAKE       0.83      0.77      0.80       595\n",
      "        REAL       0.81      0.86      0.83       672\n",
      "\n",
      "    accuracy                           0.82      1267\n",
      "   macro avg       0.82      0.82      0.82      1267\n",
      "weighted avg       0.82      0.82      0.82      1267\n",
      "\n",
      "[0.41925466 0.54574639]\n",
      "              precision    recall  f1-score   support\n",
      "\n",
      "        FAKE       0.85      0.74      0.79       628\n",
      "        REAL       0.77      0.87      0.82       639\n",
      "\n",
      "    accuracy                           0.81      1267\n",
      "   macro avg       0.81      0.81      0.80      1267\n",
      "weighted avg       0.81      0.81      0.80      1267\n",
      "\n",
      "[0.4363354  0.57142857]\n",
      "              precision    recall  f1-score   support\n",
      "\n",
      "        FAKE       0.85      0.75      0.80       644\n",
      "        REAL       0.77      0.86      0.81       623\n",
      "\n",
      "    accuracy                           0.81      1267\n",
      "   macro avg       0.81      0.81      0.81      1267\n",
      "weighted avg       0.81      0.81      0.81      1267\n",
      "\n",
      "[0.75310559 0.86195827]\n"
     ]
    }
   ],
   "source": [
    "from sklearn.naive_bayes import MultinomialNB\n",
    "# Multinomial Naive Bayes Classifier  \n",
    "\n",
    "for train, test in kf.split(features):\n",
    "    model = MultinomialNB(alpha=1)  \n",
    "    model.fit(features[train], labels.iloc[train])  \n",
    "    predicted = model.predict(features[test])\n",
    "\n",
    "    print(classification_report(labels[test], predicted))\n",
    "    print(metrics.recall_score(expected,predicted, average = None))"
   ]
  },
  {
   "cell_type": "markdown",
   "metadata": {},
   "source": [
    "#  Extension 2:  A simple application to upload and test articles"
   ]
  },
  {
   "cell_type": "code",
   "execution_count": 32,
   "metadata": {},
   "outputs": [
    {
     "data": {
      "text/plain": [
       "[\"'This is the first line.'\",\n",
       " \"'Here is the second one.'\",\n",
       " \"'And the third one.'\"]"
      ]
     },
     "execution_count": 32,
     "metadata": {},
     "output_type": "execute_result"
    }
   ],
   "source": [
    "def load_document(file_name):\n",
    "    reader = open(file_name, 'r')          \n",
    "    list_of_paras = []\n",
    "    for line in reader:\n",
    "        line = line.replace('\\t','')\n",
    "        list_of_paras.append(line.rstrip())\n",
    "    return list_of_paras\n",
    "\n",
    "# txt doc\n",
    "data = load_document('123.txt')                                      # can personal change file's name here\n",
    "\n",
    "\n",
    "'''\n",
    "test_data = ['This is the first line.'\n",
    "            'Here is the second one.'\n",
    "            'And the third one.']\n",
    "'''\n",
    "data"
   ]
  },
  {
   "cell_type": "code",
   "execution_count": 33,
   "metadata": {},
   "outputs": [],
   "source": [
    "#  example for csv doc's selected content\n",
    "\n",
    "# data2 = pd.read_csv('file_name.csv')\n",
    "# line_content = data2['title']\n"
   ]
  },
  {
   "cell_type": "code",
   "execution_count": 34,
   "metadata": {},
   "outputs": [
    {
     "name": "stdout",
     "output_type": "stream",
     "text": [
      "Vectorize word  frequncy\n",
      "  (0, 9)\t1\n",
      "  (0, 3)\t1\n",
      "  (0, 7)\t1\n",
      "  (0, 1)\t1\n",
      "  (0, 4)\t1\n",
      "  (1, 3)\t1\n",
      "  (1, 7)\t1\n",
      "  (1, 2)\t1\n",
      "  (1, 6)\t1\n",
      "  (1, 5)\t1\n",
      "  (2, 7)\t1\n",
      "  (2, 5)\t1\n",
      "  (2, 0)\t1\n",
      "  (2, 8)\t1\n",
      "All the feature names: ['and', 'first', 'here', 'is', 'line', 'one', 'second', 'the', 'third', 'this']\n",
      "------------------------\n",
      "Matric show\n",
      "[[0 1 0 1 1 0 0 1 0 1]\n",
      " [0 0 1 1 0 1 1 1 0 0]\n",
      " [1 0 0 0 0 1 0 1 1 0]]\n"
     ]
    }
   ],
   "source": [
    "vectorizer = CountVectorizer()\n",
    "X = vectorizer.fit_transform(data)\n",
    "feature_name = vectorizer.get_feature_names()\n",
    "print('Vectorize word  frequncy')\n",
    "print (X)\n",
    "print ('All the feature names:',feature_name)\n",
    "print('------------------------')\n",
    "print('Matric show')\n",
    "print (X.toarray())"
   ]
  },
  {
   "cell_type": "code",
   "execution_count": 35,
   "metadata": {},
   "outputs": [
    {
     "name": "stdout",
     "output_type": "stream",
     "text": [
      "Matrix Feature: (3, 10)\n",
      "---------------\n",
      "TF-IDF Value\n",
      "  (0, 9)\t0.5046113401371842\n",
      "  (0, 7)\t0.2980315863446099\n",
      "  (0, 4)\t0.5046113401371842\n",
      "  (0, 3)\t0.3837699307603192\n",
      "  (0, 1)\t0.5046113401371842\n",
      "  (1, 7)\t0.3154441510317797\n",
      "  (1, 6)\t0.5340933749435833\n",
      "  (1, 5)\t0.4061917781433946\n",
      "  (1, 3)\t0.4061917781433946\n",
      "  (1, 2)\t0.5340933749435833\n",
      "  (2, 8)\t0.5844829010200651\n",
      "  (2, 7)\t0.34520501686496574\n",
      "  (2, 5)\t0.444514311537431\n",
      "  (2, 0)\t0.5844829010200651\n"
     ]
    }
   ],
   "source": [
    "# use tf-idf method to track text features\n",
    "tfidf_transformer = TfidfTransformer()\n",
    "tfidf = tfidf_transformer.fit_transform(vectorizer.fit_transform(data)) \n",
    "\n",
    "print('Matrix Feature:',tfidf.shape)\n",
    "print('---------------')\n",
    "print('TF-IDF Value')\n",
    "print (tfidf)"
   ]
  },
  {
   "cell_type": "code",
   "execution_count": 36,
   "metadata": {},
   "outputs": [],
   "source": [
    "xaxis= [0.5046113401371842\n",
    "  ,0.2980315863446099\n",
    "  ,0.5046113401371842\n",
    " ,0.3837699307603192\n",
    "  ,0.5046113401371842\n",
    " ,0.3154441510317797\n",
    "  ,0.5340933749435833\n",
    "  ,0.4061917781433946\n",
    "  ,0.4061917781433946\n",
    "  ,0.5340933749435833\n",
    "  ,0.5844829010200651\n",
    " ,0.34520501686496574\n",
    ",0.444514311537431\n",
    "  ,0.5844829010200651]"
   ]
  },
  {
   "cell_type": "code",
   "execution_count": 37,
   "metadata": {},
   "outputs": [],
   "source": [
    "yaxis = ['(0, 9)','(0, 7)','(0, 4)','(0, 3)','(0, 1)','(1, 7)','(1, 6)','(1, 5)','(1, 3)','(1, 2)','(2, 8)','(2, 7)','(2, 5)','(2, 0)']"
   ]
  },
  {
   "cell_type": "code",
   "execution_count": 38,
   "metadata": {},
   "outputs": [
    {
     "data": {
      "text/plain": [
       "<BarContainer object of 14 artists>"
      ]
     },
     "execution_count": 38,
     "metadata": {},
     "output_type": "execute_result"
    },
    {
     "data": {
      "image/png": "[encoded data removed]",
      "text/plain": [
       "<Figure size 432x288 with 1 Axes>"
      ]
     },
     "metadata": {
      "needs_background": "light"
     },
     "output_type": "display_data"
    }
   ],
   "source": [
    "plt.bar(range(len(yaxis)),xaxis, width = 0.5, fc = 'g',tick_label=yaxis)"
   ]
  },
  {
   "cell_type": "code",
   "execution_count": null,
   "metadata": {},
   "outputs": [],
   "source": []
  }
 ],
 "metadata": {
  "kernelspec": {
   "display_name": "Python 3",
   "language": "python",
   "name": "python3"
  },
  "language_info": {
   "codemirror_mode": {
    "name": "ipython",
    "version": 3
   },
   "file_extension": ".py",
   "mimetype": "text/x-python",
   "name": "python",
   "nbconvert_exporter": "python",
   "pygments_lexer": "ipython3",
   "version": "3.7.6"
  }
 },
 "nbformat": 4,
 "nbformat_minor": 4
}
